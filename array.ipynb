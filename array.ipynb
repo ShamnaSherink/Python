{
 "cells": [
  {
   "cell_type": "code",
   "execution_count": 13,
   "metadata": {},
   "outputs": [
    {
     "name": "stdout",
     "output_type": "stream",
     "text": [
      "Note: you may need to restart the kernel to use updated packages.Requirement already satisfied: numpy in c:\\python312\\lib\\site-packages (2.0.0)\n",
      "\n"
     ]
    },
    {
     "name": "stderr",
     "output_type": "stream",
     "text": [
      "\n",
      "[notice] A new release of pip is available: 24.0 -> 24.1.2\n",
      "[notice] To update, run: python.exe -m pip install --upgrade pip\n"
     ]
    }
   ],
   "source": [
    "pip install numpy"
   ]
  },
  {
   "cell_type": "code",
   "execution_count": null,
   "metadata": {},
   "outputs": [],
   "source": []
  },
  {
   "cell_type": "code",
   "execution_count": 14,
   "metadata": {},
   "outputs": [
    {
     "name": "stdout",
     "output_type": "stream",
     "text": [
      "[0 1 2 3 4]\n",
      "<class 'numpy.ndarray'>\n"
     ]
    }
   ],
   "source": [
    "import numpy\n",
    "a=numpy.array([0,1,2,3,4])\n",
    "print(a)\n",
    "print(type(a))\n",
    "\n",
    "\n"
   ]
  },
  {
   "cell_type": "code",
   "execution_count": 15,
   "metadata": {},
   "outputs": [
    {
     "name": "stdout",
     "output_type": "stream",
     "text": [
      "10\n"
     ]
    }
   ],
   "source": [
    "b=numpy.array(10)\n",
    "print(b)"
   ]
  },
  {
   "cell_type": "code",
   "execution_count": null,
   "metadata": {},
   "outputs": [],
   "source": []
  },
  {
   "cell_type": "code",
   "execution_count": 16,
   "metadata": {},
   "outputs": [
    {
     "name": "stdout",
     "output_type": "stream",
     "text": [
      "[[1 2 3 4]\n",
      " [5 6 7 8]]\n"
     ]
    }
   ],
   "source": [
    "\n",
    "\n",
    "f=numpy.array([[1,2,3,4],[5,6,7,8] ])\n",
    "print(f)"
   ]
  },
  {
   "cell_type": "code",
   "execution_count": 17,
   "metadata": {},
   "outputs": [
    {
     "name": "stdout",
     "output_type": "stream",
     "text": [
      "[[[ 1  2  3]\n",
      "  [ 4  5  6]]\n",
      "\n",
      " [[ 7  8  9]\n",
      "  [10 11 12]]]\n",
      "3\n"
     ]
    }
   ],
   "source": [
    "# ndim using for identify which dimensional (1,2 or 3)\n",
    "\n",
    "k=numpy.array ([[[1,2,3],[4,5,6]],[[7,8,9],[10,11,12]]])                               \n",
    "print(k)\n",
    "print(k.ndim)"
   ]
  },
  {
   "cell_type": "code",
   "execution_count": 18,
   "metadata": {},
   "outputs": [
    {
     "name": "stdout",
     "output_type": "stream",
     "text": [
      "[[[[[1 2 3 4]]]]]\n",
      "5\n"
     ]
    }
   ],
   "source": [
    "a=numpy.array([1,2,3,4],ndmin=5)\n",
    "print(a)\n",
    "print(a.ndim)\n",
    "\n"
   ]
  },
  {
   "cell_type": "code",
   "execution_count": 19,
   "metadata": {},
   "outputs": [
    {
     "name": "stdout",
     "output_type": "stream",
     "text": [
      "4\n"
     ]
    }
   ],
   "source": [
    "a=numpy.array([1,2,3,4])\n",
    "print(a[0]+a[2])\n",
    "\n",
    "\n"
   ]
  },
  {
   "cell_type": "code",
   "execution_count": 20,
   "metadata": {},
   "outputs": [
    {
     "name": "stdout",
     "output_type": "stream",
     "text": [
      "4\n"
     ]
    }
   ],
   "source": [
    "a=numpy.array([[1,2,3,4],[5,6,7,8]])\n",
    "print(a[0,3])"
   ]
  },
  {
   "cell_type": "code",
   "execution_count": 21,
   "metadata": {},
   "outputs": [
    {
     "name": "stdout",
     "output_type": "stream",
     "text": [
      "11\n"
     ]
    }
   ],
   "source": [
    "a=numpy.array([[[1,2,3],[4,5,6]],[[7,8,9],[10,11,12]]])\n",
    "print(a[1,1,1])"
   ]
  },
  {
   "cell_type": "code",
   "execution_count": 22,
   "metadata": {},
   "outputs": [
    {
     "name": "stdout",
     "output_type": "stream",
     "text": [
      "[2 3 4 5]\n"
     ]
    }
   ],
   "source": [
    "a=numpy.array([1,2,3,4,5,6])\n",
    "b=a[1:5]\n",
    "print(b)"
   ]
  },
  {
   "cell_type": "code",
   "execution_count": 23,
   "metadata": {},
   "outputs": [
    {
     "name": "stdout",
     "output_type": "stream",
     "text": [
      "[6 7 8]\n"
     ]
    }
   ],
   "source": [
    "a=numpy.array([[1,2,3,4],[5,6,7,8]])\n",
    "b=a[1,1:4]\n",
    "print(b)"
   ]
  },
  {
   "cell_type": "code",
   "execution_count": 24,
   "metadata": {},
   "outputs": [
    {
     "name": "stdout",
     "output_type": "stream",
     "text": [
      "[11 12 13]\n"
     ]
    }
   ],
   "source": [
    "a=numpy.array([[[1,2,3,7,8],[4,5,6,6,8]],[[7,8,9,5,7],[10,11,12,13,16]]])\n",
    "b=a[1,1,1:4]\n",
    "print(b)"
   ]
  },
  {
   "cell_type": "code",
   "execution_count": 25,
   "metadata": {},
   "outputs": [
    {
     "name": "stdout",
     "output_type": "stream",
     "text": [
      "[0. 0. 0. 0. 0.]\n"
     ]
    }
   ],
   "source": [
    "# numpy.zeross\n",
    "\n",
    "array=numpy.zeros(5)\n",
    "print(array)"
   ]
  },
  {
   "cell_type": "code",
   "execution_count": 26,
   "metadata": {},
   "outputs": [
    {
     "name": "stdout",
     "output_type": "stream",
     "text": [
      "[[1. 1. 1.]\n",
      " [1. 1. 1.]\n",
      " [1. 1. 1.]\n",
      " [1. 1. 1.]]\n"
     ]
    }
   ],
   "source": [
    "# numpy.ones:\n",
    "\n",
    "array=numpy.ones((4,3))\n",
    "print(array)\n"
   ]
  },
  {
   "cell_type": "code",
   "execution_count": 27,
   "metadata": {},
   "outputs": [
    {
     "name": "stdout",
     "output_type": "stream",
     "text": [
      "[10 11 12 13 14 15 16 17 18 19]\n"
     ]
    }
   ],
   "source": [
    "# numpy arrange\n",
    "\n",
    "\n",
    "array=numpy.arange(10,20)\n",
    "print(array)"
   ]
  },
  {
   "cell_type": "code",
   "execution_count": 28,
   "metadata": {},
   "outputs": [
    {
     "name": "stdout",
     "output_type": "stream",
     "text": [
      "[20 22 24 26 28 30 32 34 36 38 40 42 44 46 48 50]\n"
     ]
    }
   ],
   "source": [
    "array=numpy.arange(20,51,2)\n",
    "print(array)"
   ]
  },
  {
   "cell_type": "code",
   "execution_count": 29,
   "metadata": {},
   "outputs": [
    {
     "name": "stdout",
     "output_type": "stream",
     "text": [
      "[ 1.    3.25  5.5   7.75 10.  ]\n"
     ]
    }
   ],
   "source": [
    "# numpy.linspace    split 1 t0 10 vare ullathil value 5 vech split cheythu\n",
    "\n",
    "array=numpy.linspace(1,10,5)\n",
    "print(array)"
   ]
  },
  {
   "cell_type": "code",
   "execution_count": 30,
   "metadata": {},
   "outputs": [
    {
     "name": "stdout",
     "output_type": "stream",
     "text": [
      "[[1. 0. 0. 0. 0. 0. 0. 0. 0. 0.]\n",
      " [0. 1. 0. 0. 0. 0. 0. 0. 0. 0.]\n",
      " [0. 0. 1. 0. 0. 0. 0. 0. 0. 0.]\n",
      " [0. 0. 0. 1. 0. 0. 0. 0. 0. 0.]\n",
      " [0. 0. 0. 0. 1. 0. 0. 0. 0. 0.]\n",
      " [0. 0. 0. 0. 0. 1. 0. 0. 0. 0.]\n",
      " [0. 0. 0. 0. 0. 0. 1. 0. 0. 0.]\n",
      " [0. 0. 0. 0. 0. 0. 0. 1. 0. 0.]\n",
      " [0. 0. 0. 0. 0. 0. 0. 0. 1. 0.]\n",
      " [0. 0. 0. 0. 0. 0. 0. 0. 0. 1.]]\n"
     ]
    }
   ],
   "source": [
    "array=numpy.eye(10)\n",
    "print(array)"
   ]
  },
  {
   "cell_type": "code",
   "execution_count": 31,
   "metadata": {},
   "outputs": [
    {
     "name": "stdout",
     "output_type": "stream",
     "text": [
      "[[1. 0. 0. 0. 0. 0. 0. 0. 0. 0.]\n",
      " [0. 1. 0. 0. 0. 0. 0. 0. 0. 0.]\n",
      " [0. 0. 1. 0. 0. 0. 0. 0. 0. 0.]\n",
      " [0. 0. 0. 1. 0. 0. 0. 0. 0. 0.]\n",
      " [0. 0. 0. 0. 1. 0. 0. 0. 0. 0.]\n",
      " [0. 0. 0. 0. 0. 1. 0. 0. 0. 0.]\n",
      " [0. 0. 0. 0. 0. 0. 1. 0. 0. 0.]\n",
      " [0. 0. 0. 0. 0. 0. 0. 1. 0. 0.]\n",
      " [0. 0. 0. 0. 0. 0. 0. 0. 1. 0.]\n",
      " [0. 0. 0. 0. 0. 0. 0. 0. 0. 1.]]\n"
     ]
    }
   ],
   "source": [
    "# numpy.eye\n",
    "\n",
    "array=numpy.eye(10)\n",
    "print(array)"
   ]
  },
  {
   "cell_type": "code",
   "execution_count": null,
   "metadata": {},
   "outputs": [],
   "source": []
  },
  {
   "cell_type": "code",
   "execution_count": 32,
   "metadata": {},
   "outputs": [
    {
     "name": "stdout",
     "output_type": "stream",
     "text": [
      "[59 29 71 41 56]\n"
     ]
    }
   ],
   "source": [
    "# numpy.randomm  0 to 100 vare ulladhil values 5 vech split cheythu varunnu like linspace:-\n",
    "\n",
    "array=numpy.random.randint(0,100,5)\n",
    "print(array)"
   ]
  },
  {
   "cell_type": "code",
   "execution_count": 33,
   "metadata": {},
   "outputs": [
    {
     "name": "stdout",
     "output_type": "stream",
     "text": [
      "[59 29 71 41 56]\n"
     ]
    }
   ],
   "source": [
    "# numpy.random.randomm\n",
    "\n",
    "# array=numpy.random.random(100)  100  point values between 0 to 1 \n",
    "print(array)"
   ]
  },
  {
   "cell_type": "code",
   "execution_count": null,
   "metadata": {},
   "outputs": [],
   "source": []
  },
  {
   "cell_type": "code",
   "execution_count": 34,
   "metadata": {},
   "outputs": [
    {
     "name": "stdout",
     "output_type": "stream",
     "text": [
      "[ 1  2 10]\n",
      "(3,)\n"
     ]
    }
   ],
   "source": [
    "# shape function 1 dimensional  (numbers of the list)\n",
    "\n",
    "import numpy as  np\n",
    "array=numpy.array([1,2,10])\n",
    "print(array)\n",
    "print(array.shape)\n"
   ]
  },
  {
   "cell_type": "code",
   "execution_count": 35,
   "metadata": {},
   "outputs": [
    {
     "name": "stdout",
     "output_type": "stream",
     "text": [
      "[[2 3 4 5]\n",
      " [6 7 8 9]]\n",
      "(2, 4)\n"
     ]
    }
   ],
   "source": [
    "# shape function 2 dimensional  (2 dimension,and oroonnilum 4 numbers)\n",
    "\n",
    "\n",
    "import numpy as np\n",
    "array=numpy.array([[2,3,4,5],[6,7,8,9]])\n",
    "print(array)\n",
    "print(array.shape)"
   ]
  },
  {
   "cell_type": "code",
   "execution_count": 74,
   "metadata": {},
   "outputs": [
    {
     "name": "stdout",
     "output_type": "stream",
     "text": [
      "[[[ 1  2  3  4]\n",
      "  [ 5  6  7  8]]\n",
      "\n",
      " [[ 9 10 11 12]\n",
      "  [13 14 15 16]]]\n",
      "(2, 2, 4)\n"
     ]
    }
   ],
   "source": [
    "# shape function 3 dimensional  (2 list varunnu,,,oro listlum 2 list vere ennam nd,,,,,,,athilulla numbers )\n",
    "\n",
    "import numpy as np\n",
    "array=numpy.array([[[1,2,3,4],[5,6,7,8]],[[9,10,11,12],[13,14,15,16]]])\n",
    "print(array)\n",
    "print(array.shape)"
   ]
  },
  {
   "cell_type": "code",
   "execution_count": null,
   "metadata": {},
   "outputs": [],
   "source": []
  },
  {
   "cell_type": "code",
   "execution_count": 37,
   "metadata": {},
   "outputs": [
    {
     "name": "stdout",
     "output_type": "stream",
     "text": [
      "[[1 2 3]\n",
      " [4 5 6]]\n"
     ]
    }
   ],
   "source": [
    "# reshape function using the number of columns and raws\n",
    "\n",
    "\n",
    "import numpy as np\n",
    "array=numpy.array([1,2,3,4,5,6])\n",
    "print(array.reshape (2,3))\n"
   ]
  },
  {
   "cell_type": "code",
   "execution_count": null,
   "metadata": {},
   "outputs": [],
   "source": []
  },
  {
   "cell_type": "code",
   "execution_count": 38,
   "metadata": {},
   "outputs": [
    {
     "name": "stdout",
     "output_type": "stream",
     "text": [
      "[[ 1  2]\n",
      " [ 3  5]\n",
      " [ 6  7]\n",
      " [ 9 10]\n",
      " [11 13]\n",
      " [14 15]]\n"
     ]
    }
   ],
   "source": [
    "# convert array in 3 dimension into 2    reshape use to convert\n",
    "\n",
    "import numpy as np\n",
    "array=numpy.array([[[1,2,3],[5,6,7]],[[9,10,11],[13,14,15]]])\n",
    "array2=array.reshape(6,2)\n",
    "print(array2)\n",
    "\n"
   ]
  },
  {
   "cell_type": "code",
   "execution_count": 39,
   "metadata": {},
   "outputs": [
    {
     "name": "stdout",
     "output_type": "stream",
     "text": [
      "[1 2 3 4 5 6 7 8]\n"
     ]
    }
   ],
   "source": [
    "# concatenate  1D:-  (COMBINE ARRAY)\n",
    "a=numpy.array([1,2,3,4])\n",
    "b=numpy.array([5,6,7,8])\n",
    "result=numpy.concatenate((a,b))\n",
    "print(result)\n"
   ]
  },
  {
   "cell_type": "code",
   "execution_count": 40,
   "metadata": {},
   "outputs": [
    {
     "name": "stdout",
     "output_type": "stream",
     "text": [
      "[[ 1  2  3]\n",
      " [ 4  5  6]\n",
      " [ 7  8  9]\n",
      " [10 11 12]]\n"
     ]
    }
   ],
   "source": [
    "# concatenate 2D\n",
    "\n",
    "a=numpy.array([[1,2,3],[4,5,6]])\n",
    "b=numpy.array([[7,8,9],[10,11,12]])\n",
    "result=numpy.concatenate((a,b))\n",
    "\n",
    "print(result)"
   ]
  },
  {
   "cell_type": "code",
   "execution_count": 41,
   "metadata": {},
   "outputs": [
    {
     "name": "stdout",
     "output_type": "stream",
     "text": [
      "[[[ 1  2  3]\n",
      "  [ 4  5  6]]\n",
      "\n",
      " [[ 7  8  9]\n",
      "  [10 11 12]]]\n"
     ]
    }
   ],
   "source": [
    "# STACK USING COMBINE:\n",
    "\n",
    "a=numpy.array([[1,2,3],[4,5,6]])\n",
    "b=numpy.array([[7,8,9],[10,11,12]])\n",
    "result=numpy.stack((a,b))\n",
    "print(result)"
   ]
  },
  {
   "cell_type": "code",
   "execution_count": 42,
   "metadata": {},
   "outputs": [
    {
     "name": "stdout",
     "output_type": "stream",
     "text": [
      "[[ 1  2  3  7  8  9]\n",
      " [ 4  5  6 10 11 12]]\n"
     ]
    }
   ],
   "source": [
    "# HSTACK ALSO COMBINE:-  2D  (horizondal)\n",
    "\n",
    "a=numpy.array([[1,2,3],[4,5,6]])\n",
    "b=numpy.array([[7,8,9],[10,11,12]])\n",
    "result=numpy.hstack((a,b))\n",
    "print(result)"
   ]
  },
  {
   "cell_type": "code",
   "execution_count": 43,
   "metadata": {},
   "outputs": [
    {
     "name": "stdout",
     "output_type": "stream",
     "text": [
      "[[ 1  2  3]\n",
      " [ 4  5  6]\n",
      " [ 7  8  9]\n",
      " [10 11 12]]\n"
     ]
    }
   ],
   "source": [
    "# VSTACK ALSO COMBINE  2D   (vertically)\n",
    "\n",
    "a=numpy.array([[1,2,3],[4,5,6]])\n",
    "b=numpy.array([[7,8,9],[10,11,12]])\n",
    "result=numpy.vstack((a,b))\n",
    "print(result)"
   ]
  },
  {
   "cell_type": "code",
   "execution_count": 44,
   "metadata": {},
   "outputs": [
    {
     "name": "stdout",
     "output_type": "stream",
     "text": [
      "[[[ 1  7]\n",
      "  [ 2  8]\n",
      "  [ 3  9]]\n",
      "\n",
      " [[ 4 10]\n",
      "  [ 5 11]\n",
      "  [ 6 12]]]\n"
     ]
    }
   ],
   "source": [
    "# DSTACK ALSO COMBINE   2D (depth wise)\n",
    "\n",
    "a=numpy.array([[1,2,3],[4,5,6]])\n",
    "b=numpy.array([[7,8,9],[10,11,12]])\n",
    "result=numpy.dstack((a,b))\n",
    "print(result)"
   ]
  },
  {
   "cell_type": "code",
   "execution_count": null,
   "metadata": {},
   "outputs": [],
   "source": []
  },
  {
   "cell_type": "code",
   "execution_count": 45,
   "metadata": {},
   "outputs": [
    {
     "name": "stdout",
     "output_type": "stream",
     "text": [
      "[[[1 2 3]\n",
      "  [4 5 6]]]\n"
     ]
    }
   ],
   "source": [
    "import numpy as np\n",
    "array=numpy.array([[1,2,3,],[4,5,6]])\n",
    "print(array.reshape(1,2,3))"
   ]
  },
  {
   "cell_type": "code",
   "execution_count": 46,
   "metadata": {},
   "outputs": [
    {
     "name": "stdout",
     "output_type": "stream",
     "text": [
      "[array([1, 2]), array([3, 4]), array([5, 6])]\n"
     ]
    }
   ],
   "source": [
    "# split function in 1D:-\n",
    "\n",
    "\n",
    "array=([1,2,3,4,5,6])\n",
    "result=numpy.array_split (array,3)\n",
    "print(result)\n"
   ]
  },
  {
   "cell_type": "code",
   "execution_count": 47,
   "metadata": {},
   "outputs": [
    {
     "name": "stdout",
     "output_type": "stream",
     "text": [
      "[array([[1, 2, 3, 4]]), array([[5, 6, 7, 8]]), array([], shape=(0, 4), dtype=int64)]\n"
     ]
    }
   ],
   "source": [
    "# SPLIT FUNCTION IN 2D:-\n",
    "\n",
    "array=([[1,2,3,4],[5,6,7,8]])\n",
    "result=numpy.array_split(array,3)\n",
    "print(result)"
   ]
  },
  {
   "cell_type": "code",
   "execution_count": 48,
   "metadata": {},
   "outputs": [
    {
     "name": "stdout",
     "output_type": "stream",
     "text": [
      "[array([[[1, 2, 3, 4],\n",
      "        [5, 6, 7, 8]]]), array([[[ 9, 10, 11, 12],\n",
      "        [13, 14, 15, 16]]]), array([], shape=(0, 2, 4), dtype=int64)]\n"
     ]
    }
   ],
   "source": [
    "# SPLIT FUNCTION 3D:-\n",
    "\n",
    "array=([[[1,2,3,4],[5,6,7,8]],[[9,10,11,12],[13,14,15,16]]])\n",
    "result=numpy.array_split(array,3)\n",
    "print(result)"
   ]
  },
  {
   "cell_type": "code",
   "execution_count": 49,
   "metadata": {},
   "outputs": [
    {
     "name": "stdout",
     "output_type": "stream",
     "text": [
      "[[ 2  3  4]\n",
      " [ 5  6  7]\n",
      " [ 8  9 10]]\n"
     ]
    }
   ],
   "source": [
    "# 2 TO 10 LIST 3*3 METRIX:-\n",
    "\n",
    "array=numpy.arange(2,11)\n",
    "print(array.reshape(3,3))"
   ]
  },
  {
   "cell_type": "code",
   "execution_count": 50,
   "metadata": {},
   "outputs": [
    {
     "name": "stdout",
     "output_type": "stream",
     "text": [
      "[1 2 3 4]\n"
     ]
    }
   ],
   "source": [
    "# FIND UNIQUE ELEMENT OF THE ARRAY:- USE (unique())\n",
    "\n",
    "array=numpy.array([1,2,3,3,4,2])\n",
    "result=numpy.unique(array)\n",
    "print(result)\n"
   ]
  },
  {
   "cell_type": "code",
   "execution_count": null,
   "metadata": {},
   "outputs": [],
   "source": []
  },
  {
   "cell_type": "code",
   "execution_count": 51,
   "metadata": {},
   "outputs": [
    {
     "name": "stdout",
     "output_type": "stream",
     "text": [
      "[1 2 3 4 6 7 8 9]\n"
     ]
    }
   ],
   "source": [
    "# union of two numbers in  2 arrays:-   (USE (union1d) \n",
    "\n",
    "array1=([1,2,3,4])\n",
    "array2=([6,7,8,9])\n",
    "result=numpy.union1d(array1,array2)\n",
    "print(result)"
   ]
  },
  {
   "cell_type": "code",
   "execution_count": null,
   "metadata": {},
   "outputs": [],
   "source": []
  },
  {
   "cell_type": "code",
   "execution_count": 52,
   "metadata": {},
   "outputs": [
    {
     "name": "stdout",
     "output_type": "stream",
     "text": [
      "6\n"
     ]
    }
   ],
   "source": [
    "array=numpy.random.randint(0,10)\n",
    "print(array)"
   ]
  },
  {
   "cell_type": "code",
   "execution_count": 53,
   "metadata": {},
   "outputs": [
    {
     "name": "stdout",
     "output_type": "stream",
     "text": [
      "[4 5 6 8]\n",
      "[[4 0 0 0]\n",
      " [0 5 0 0]\n",
      " [0 0 6 0]\n",
      " [0 0 0 8]]\n"
     ]
    }
   ],
   "source": [
    "# DIAGNAL VALUES (4,5,6,8) ONLY print   (UDSING  (diag)\n",
    "\n",
    "array=numpy.array([4,5,6,8])\n",
    "print(array)\n",
    "result=numpy.diag(array)\n",
    "print(result)\n"
   ]
  },
  {
   "cell_type": "code",
   "execution_count": null,
   "metadata": {},
   "outputs": [],
   "source": []
  },
  {
   "cell_type": "code",
   "execution_count": 54,
   "metadata": {},
   "outputs": [
    {
     "name": "stdout",
     "output_type": "stream",
     "text": [
      "[0. 0. 0. 0. 0. 9.]\n"
     ]
    }
   ],
   "source": [
    "#  (6 NULL VALUE LIST OF 0 AND PRINT 6 TH POSITION =9):-\n",
    "\n",
    "array=numpy.zeros([6])\n",
    "array[5]= 9\n",
    "print(array)"
   ]
  },
  {
   "cell_type": "code",
   "execution_count": null,
   "metadata": {},
   "outputs": [],
   "source": []
  },
  {
   "cell_type": "code",
   "execution_count": 55,
   "metadata": {},
   "outputs": [
    {
     "name": "stdout",
     "output_type": "stream",
     "text": [
      "[12 13 14 15 16 17 18 19 20 21 22 23 24 25 26 27 28 29 30 31 32 33 34 35\n",
      " 36 37 38 39]\n"
     ]
    }
   ],
   "source": [
    "# PRINT 12 TO 39 USING ARANGE FUNCTION:-\n",
    "\n",
    "array=numpy.arange(12,40)\n",
    "print(array)"
   ]
  },
  {
   "cell_type": "code",
   "execution_count": 56,
   "metadata": {},
   "outputs": [
    {
     "name": "stdout",
     "output_type": "stream",
     "text": [
      "[1 2 3 4 5]\n",
      "[5 4 3 2 1]\n"
     ]
    }
   ],
   "source": [
    "# REVERSE THE LIST OF ARRAY:-\n",
    "\n",
    "array=numpy.array([1,2,3,4,5])\n",
    "array2=array[::-1]\n",
    "print(array)\n",
    "print(array2)"
   ]
  },
  {
   "cell_type": "code",
   "execution_count": 57,
   "metadata": {},
   "outputs": [
    {
     "name": "stdout",
     "output_type": "stream",
     "text": [
      "(2, 3)\n",
      "<class 'numpy.ndarray'>\n",
      "int32\n"
     ]
    }
   ],
   "source": [
    "# 2D ARRAY (SIZE 2*3)  (4 BYTE INT) AND PRINT (SHAPE,TYPE,DATATYPE):-\n",
    "\n",
    "array=numpy.empty((2,3),dtype=numpy.int32)\n",
    "print(array.shape)\n",
    "print(type(array))\n",
    "print(array.dtype)"
   ]
  },
  {
   "cell_type": "code",
   "execution_count": 58,
   "metadata": {},
   "outputs": [
    {
     "name": "stdout",
     "output_type": "stream",
     "text": [
      "[1 2 3 4 5]\n",
      "[1. 2. 3. 4. 5.]\n"
     ]
    }
   ],
   "source": [
    "# CONVERT ARRAY TO FLOAT:-\n",
    "\n",
    "array=numpy.array([1,2,3,4,5])\n",
    "float_array=array.astype(float)\n",
    "print(array)\n",
    "print(float_array)"
   ]
  },
  {
   "cell_type": "code",
   "execution_count": null,
   "metadata": {},
   "outputs": [],
   "source": [
    "\n"
   ]
  },
  {
   "cell_type": "code",
   "execution_count": 59,
   "metadata": {},
   "outputs": [
    {
     "name": "stdout",
     "output_type": "stream",
     "text": [
      "[[0 0 0 0 0 0 0 0]\n",
      " [0 0 0 0 0 0 0 0]\n",
      " [0 0 0 0 0 0 0 0]\n",
      " [0 0 0 0 0 0 0 0]\n",
      " [0 0 0 0 0 0 0 0]\n",
      " [0 0 0 0 0 0 0 0]\n",
      " [0 0 0 0 0 0 0 0]\n",
      " [0 0 0 0 0 0 0 0]]\n",
      "[[0 1 0 1 0 1 0 1]\n",
      " [1 0 1 0 1 0 1 0]\n",
      " [0 1 0 1 0 1 0 1]\n",
      " [1 0 1 0 1 0 1 0]\n",
      " [0 1 0 1 0 1 0 1]\n",
      " [1 0 1 0 1 0 1 0]\n",
      " [0 1 0 1 0 1 0 1]\n",
      " [1 0 1 0 1 0 1 0]]\n"
     ]
    }
   ],
   "source": [
    "# 8*8 MATRIX FILLED WITH ZEROS:- print (010101)\n",
    "\n",
    "\n",
    "array=numpy.zeros((8,8),dtype=int)\n",
    "print(array)\n",
    "array[1::2, ::2]=1\n",
    "array[::2 , 1::2]=1\n",
    "print(array)\n"
   ]
  },
  {
   "cell_type": "code",
   "execution_count": 60,
   "metadata": {},
   "outputs": [
    {
     "name": "stdout",
     "output_type": "stream",
     "text": [
      "[10 20 30 40]\n",
      "[ 50.  68.  86. 104.]\n"
     ]
    }
   ],
   "source": [
    "# CONVERT VALUES CENTIGRADE INTO FAHRENHEINT DEGREES:-\n",
    "\n",
    "array=numpy.array([10,20,30,40])\n",
    "fahrenheit_values= array * 9/5+32\n",
    "print(array)\n",
    "print(fahrenheit_values)\n"
   ]
  },
  {
   "cell_type": "code",
   "execution_count": 66,
   "metadata": {},
   "outputs": [
    {
     "name": "stdout",
     "output_type": "stream",
     "text": [
      "5\n",
      "4\n",
      "20\n"
     ]
    }
   ],
   "source": [
    "# FIND NUMBER OF ELEMENT OF AN ARRAY,LENGTH ARRAY IN BYTES AND TOTAL BYTES CONSUMED BY ELEMENTS:-\n",
    "\n",
    "array=numpy.array([1,2,3,4,5],dtype=numpy.int32)\n",
    "num_elements=array.size\n",
    "size=array.itemsize\n",
    "total_bytes=array.nbytes\n",
    "print(num_elements)\n",
    "print(size)\n",
    "print(total_bytes)"
   ]
  },
  {
   "cell_type": "code",
   "execution_count": null,
   "metadata": {},
   "outputs": [],
   "source": []
  },
  {
   "cell_type": "code",
   "execution_count": null,
   "metadata": {},
   "outputs": [],
   "source": []
  },
  {
   "cell_type": "code",
   "execution_count": 73,
   "metadata": {},
   "outputs": [
    {
     "name": "stdout",
     "output_type": "stream",
     "text": [
      "[ 0 10 20 30 40]\n",
      "[ 0  5 10 15 20]\n",
      "[ True  True  True False False]\n"
     ]
    },
    {
     "name": "stderr",
     "output_type": "stream",
     "text": [
      "C:\\Users\\SHAMNA SHERIN\\AppData\\Local\\Temp\\ipykernel_9444\\2942596897.py:5: DeprecationWarning: `in1d` is deprecated. Use `np.isin` instead.\n",
      "  result=numpy.in1d(array1,array2)\n"
     ]
    }
   ],
   "source": [
    "# TEST WHEATHER ELEMENT A 1D ALSO PRESENT SECOND ARRAY:-\n",
    "\n",
    "array1=numpy.array([0,10,20,30,40])\n",
    "array2=numpy.array([0,5,10,15,20])\n",
    "result=numpy.in1d(array1,array2)\n",
    "print(array1)\n",
    "print(array2)\n",
    "print(result)"
   ]
  },
  {
   "cell_type": "code",
   "execution_count": 63,
   "metadata": {},
   "outputs": [
    {
     "name": "stdout",
     "output_type": "stream",
     "text": [
      "[4 5]\n",
      "[1 2 3 4 5]\n",
      "[4 5 6 7 8]\n"
     ]
    }
   ],
   "source": [
    "# FIND commoN VALUES BETWEEN 2 ARRAYS:-\n",
    "\n",
    "array1=numpy.array([1,2,3,4,5])\n",
    "array2=numpy.array([4,5,6,7,8])\n",
    "common_values=numpy.intersect1d(array1,array2)\n",
    "print(common_values)\n",
    "print(array1)\n",
    "print(array2)"
   ]
  },
  {
   "cell_type": "code",
   "execution_count": 67,
   "metadata": {},
   "outputs": [
    {
     "name": "stdout",
     "output_type": "stream",
     "text": [
      "[1 2 3 4 5]\n",
      "5\n",
      "8\n",
      "40\n"
     ]
    }
   ],
   "source": [
    "array=numpy.array([1,2,3,4,5])\n",
    "elements=array.size\n",
    "length=array.itemsize\n",
    "total_bytes=array.nbytes\n",
    "print(array)\n",
    "print(elements)\n",
    "print(length)\n",
    "print(total_bytes)"
   ]
  },
  {
   "cell_type": "code",
   "execution_count": 68,
   "metadata": {},
   "outputs": [
    {
     "name": "stdout",
     "output_type": "stream",
     "text": [
      "[1 2 3 4]\n",
      "[3 4 5 6]\n",
      "[False False  True  True]\n"
     ]
    },
    {
     "name": "stderr",
     "output_type": "stream",
     "text": [
      "C:\\Users\\SHAMNA SHERIN\\AppData\\Local\\Temp\\ipykernel_9444\\3342014793.py:3: DeprecationWarning: `in1d` is deprecated. Use `np.isin` instead.\n",
      "  a=numpy.in1d(array,array2)\n"
     ]
    }
   ],
   "source": [
    "# IDENTIFY SAME VALUES:- GIVE TRUE OR FALSE\n",
    "\n",
    "array=numpy.array([1,2,3,4])\n",
    "array2=numpy.array([3,4,5,6])\n",
    "a=numpy.in1d(array,array2)\n",
    "print(array)\n",
    "print(array2)\n",
    "print(a)"
   ]
  },
  {
   "cell_type": "code",
   "execution_count": 69,
   "metadata": {},
   "outputs": [
    {
     "name": "stdout",
     "output_type": "stream",
     "text": [
      "[ 10  20  30  40  50  60  70  80  90 100]\n",
      "[0, 4, 5]\n",
      "[ 20  30  40  70  80  90 100]\n"
     ]
    }
   ],
   "source": [
    "# REMOVE 1,5,6 ELEMENTS:=\n",
    "\n",
    "array=numpy.array([10,20,30,40,50,60,70,80,90,100])\n",
    "b=[0,4,5]\n",
    "c=numpy.delete(array,b)\n",
    "print(array)\n",
    "print(b)\n",
    "print(c)"
   ]
  },
  {
   "cell_type": "code",
   "execution_count": 70,
   "metadata": {},
   "outputs": [
    {
     "name": "stdout",
     "output_type": "stream",
     "text": [
      "[0 0 0 2 3 4 5 0]\n"
     ]
    }
   ],
   "source": [
    "# REPLACE NEGATIVE VALUES INTO 0:-\n",
    "\n",
    "array=numpy.array([-1,-4,0,2,3,4,5,-6])\n",
    "array[array<0]=0\n",
    "print(array)"
   ]
  },
  {
   "cell_type": "code",
   "execution_count": 71,
   "metadata": {},
   "outputs": [
    {
     "name": "stdout",
     "output_type": "stream",
     "text": [
      "[10 20 20 20 20  0 20 30 30 30  0  0 20 20  0]\n",
      "20\n",
      "7\n"
     ]
    }
   ],
   "source": [
    "# COUNT THE SPECIFIC GIVEN NUMBER:-\n",
    "\n",
    "array=numpy.array([10,20,20,20,20,0,20,30,30,30,0,0,20,20,0])\n",
    "a=20\n",
    "b=numpy.count_nonzero(array==a)\n",
    "print(array)\n",
    "print(a)\n",
    "print(b)"
   ]
  }
 ],
 "metadata": {
  "kernelspec": {
   "display_name": "Python 3",
   "language": "python",
   "name": "python3"
  },
  "language_info": {
   "codemirror_mode": {
    "name": "ipython",
    "version": 3
   },
   "file_extension": ".py",
   "mimetype": "text/x-python",
   "name": "python",
   "nbconvert_exporter": "python",
   "pygments_lexer": "ipython3",
   "version": "3.12.4"
  }
 },
 "nbformat": 4,
 "nbformat_minor": 2
}
